{
 "cells": [
  {
   "cell_type": "code",
   "execution_count": 38,
   "id": "81d0ca9f",
   "metadata": {},
   "outputs": [],
   "source": [
    "import openai\n",
    "import pinecone\n",
    "import langchain\n",
    "from langchain.document_loaders import PyPDFDirectoryLoader\n",
    "from langchain.text_splitter import RecursiveCharacterTextSplitter\n",
    "from langchain_google_genai import GoogleGenerativeAIEmbeddings\n",
    "from langchain.vectorstores import Pinecone\n",
    "from langchain_google_genai import GoogleGenerativeAI"
   ]
  },
  {
   "cell_type": "code",
   "execution_count": 6,
   "id": "1f3f56c6",
   "metadata": {},
   "outputs": [
    {
     "data": {
      "text/plain": [
       "True"
      ]
     },
     "execution_count": 6,
     "metadata": {},
     "output_type": "execute_result"
    }
   ],
   "source": [
    "from dotenv import load_dotenv\n",
    "load_dotenv()"
   ]
  },
  {
   "cell_type": "code",
   "execution_count": 7,
   "id": "7611df38",
   "metadata": {},
   "outputs": [],
   "source": [
    "import os"
   ]
  },
  {
   "cell_type": "code",
   "execution_count": 8,
   "id": "369d0573",
   "metadata": {},
   "outputs": [],
   "source": [
    "def read_doc(directory):\n",
    "    file_load = PyPDFDirectoryLoader(directory)\n",
    "    documents = file_load.load()\n",
    "    return documents"
   ]
  },
  {
   "cell_type": "code",
   "execution_count": 10,
   "id": "27b53ad3",
   "metadata": {},
   "outputs": [
    {
     "data": {
      "text/plain": [
       "1"
      ]
     },
     "execution_count": 10,
     "metadata": {},
     "output_type": "execute_result"
    }
   ],
   "source": [
    "doc = read_doc('documents/')\n",
    "len(doc)"
   ]
  },
  {
   "cell_type": "code",
   "execution_count": 11,
   "id": "051ebaa7",
   "metadata": {},
   "outputs": [],
   "source": [
    "def chunk_data(docs, chunk_size=100,chunk_overlap=20):\n",
    "    text_splitter = RecursiveCharacterTextSplitter(chunk_size=chunk_size, chunk_overlap=chunk_overlap)\n",
    "    docs = text_splitter.split_documents(docs)\n",
    "    return docs"
   ]
  },
  {
   "cell_type": "code",
   "execution_count": 18,
   "id": "21ba9681",
   "metadata": {},
   "outputs": [
    {
     "data": {
      "text/plain": [
       "[Document(metadata={'producer': 'Canva', 'creator': 'Canva', 'creationdate': '2025-08-18T06:13:31+00:00', 'title': 'RESUME IN PROCESS', 'moddate': '2025-08-18T06:13:30+00:00', 'keywords': 'DAGtNw66A_M,BAEiyhLqebQ,0', 'author': 'Hitesh', 'source': 'documents\\\\Hitesh_resume_fin.pdf', 'total_pages': 1, 'page': 0, 'page_label': '1'}, page_content='H I T E S H  K U M A R'),\n",
       " Document(metadata={'producer': 'Canva', 'creator': 'Canva', 'creationdate': '2025-08-18T06:13:31+00:00', 'title': 'RESUME IN PROCESS', 'moddate': '2025-08-18T06:13:30+00:00', 'keywords': 'DAGtNw66A_M,BAEiyhLqebQ,0', 'author': 'Hitesh', 'source': 'documents\\\\Hitesh_resume_fin.pdf', 'total_pages': 1, 'page': 0, 'page_label': '1'}, page_content='A n  A I  e n t h u s i a s t  w i t h  p r a c t i c a l  e x p e r t i s e  i n  m a c h i n e  l'),\n",
       " Document(metadata={'producer': 'Canva', 'creator': 'Canva', 'creationdate': '2025-08-18T06:13:31+00:00', 'title': 'RESUME IN PROCESS', 'moddate': '2025-08-18T06:13:30+00:00', 'keywords': 'DAGtNw66A_M,BAEiyhLqebQ,0', 'author': 'Hitesh', 'source': 'documents\\\\Hitesh_resume_fin.pdf', 'total_pages': 1, 'page': 0, 'page_label': '1'}, page_content='n  m a c h i n e  l e a r n i n g ,  d e e p  l e a r n i n g ,  n a t u r a l  l a n g u a g e  p'),\n",
       " Document(metadata={'producer': 'Canva', 'creator': 'Canva', 'creationdate': '2025-08-18T06:13:31+00:00', 'title': 'RESUME IN PROCESS', 'moddate': '2025-08-18T06:13:30+00:00', 'keywords': 'DAGtNw66A_M,BAEiyhLqebQ,0', 'author': 'Hitesh', 'source': 'documents\\\\Hitesh_resume_fin.pdf', 'total_pages': 1, 'page': 0, 'page_label': '1'}, page_content='l a n g u a g e  p r o c e s s i n g ,  a n d'),\n",
       " Document(metadata={'producer': 'Canva', 'creator': 'Canva', 'creationdate': '2025-08-18T06:13:31+00:00', 'title': 'RESUME IN PROCESS', 'moddate': '2025-08-18T06:13:30+00:00', 'keywords': 'DAGtNw66A_M,BAEiyhLqebQ,0', 'author': 'Hitesh', 'source': 'documents\\\\Hitesh_resume_fin.pdf', 'total_pages': 1, 'page': 0, 'page_label': '1'}, page_content='r e i n f o r c e m e n t  l e a r n i n g .  I  l i k e  c r e a t i n g  i n t e l l i g e n t  s'),\n",
       " Document(metadata={'producer': 'Canva', 'creator': 'Canva', 'creationdate': '2025-08-18T06:13:31+00:00', 'title': 'RESUME IN PROCESS', 'moddate': '2025-08-18T06:13:30+00:00', 'keywords': 'DAGtNw66A_M,BAEiyhLqebQ,0', 'author': 'Hitesh', 'source': 'documents\\\\Hitesh_resume_fin.pdf', 'total_pages': 1, 'page': 0, 'page_label': '1'}, page_content='e l l i g e n t  s y s t e m s  t h a t  a d d r e s s  r e a l - w o r l d  i s s u e s ,  s u c h'),\n",
       " Document(metadata={'producer': 'Canva', 'creator': 'Canva', 'creationdate': '2025-08-18T06:13:31+00:00', 'title': 'RESUME IN PROCESS', 'moddate': '2025-08-18T06:13:30+00:00', 'keywords': 'DAGtNw66A_M,BAEiyhLqebQ,0', 'author': 'Hitesh', 'source': 'documents\\\\Hitesh_resume_fin.pdf', 'total_pages': 1, 'page': 0, 'page_label': '1'}, page_content='s u e s ,  s u c h  a s  p r e d i c t i v e'),\n",
       " Document(metadata={'producer': 'Canva', 'creator': 'Canva', 'creationdate': '2025-08-18T06:13:31+00:00', 'title': 'RESUME IN PROCESS', 'moddate': '2025-08-18T06:13:30+00:00', 'keywords': 'DAGtNw66A_M,BAEiyhLqebQ,0', 'author': 'Hitesh', 'source': 'documents\\\\Hitesh_resume_fin.pdf', 'total_pages': 1, 'page': 0, 'page_label': '1'}, page_content='a n a l y t i c s ,  g a m e - p l a y i n g  a g e n t s ,  a n d  t r a n s f o r m e r - b a s e'),\n",
       " Document(metadata={'producer': 'Canva', 'creator': 'Canva', 'creationdate': '2025-08-18T06:13:31+00:00', 'title': 'RESUME IN PROCESS', 'moddate': '2025-08-18T06:13:30+00:00', 'keywords': 'DAGtNw66A_M,BAEiyhLqebQ,0', 'author': 'Hitesh', 'source': 'documents\\\\Hitesh_resume_fin.pdf', 'total_pages': 1, 'page': 0, 'page_label': '1'}, page_content='o r m e r - b a s e d  l a n g u a g e  m o d e l s .  k n o w l e d g e a b l e  a b o u t  P y T'),\n",
       " Document(metadata={'producer': 'Canva', 'creator': 'Canva', 'creationdate': '2025-08-18T06:13:31+00:00', 'title': 'RESUME IN PROCESS', 'moddate': '2025-08-18T06:13:30+00:00', 'keywords': 'DAGtNw66A_M,BAEiyhLqebQ,0', 'author': 'Hitesh', 'source': 'documents\\\\Hitesh_resume_fin.pdf', 'total_pages': 1, 'page': 0, 'page_label': '1'}, page_content='e  a b o u t  P y T o r c h ,'),\n",
       " Document(metadata={'producer': 'Canva', 'creator': 'Canva', 'creationdate': '2025-08-18T06:13:31+00:00', 'title': 'RESUME IN PROCESS', 'moddate': '2025-08-18T06:13:30+00:00', 'keywords': 'DAGtNw66A_M,BAEiyhLqebQ,0', 'author': 'Hitesh', 'source': 'documents\\\\Hitesh_resume_fin.pdf', 'total_pages': 1, 'page': 0, 'page_label': '1'}, page_content='L a n g C h a i n ,  R A G  a n d  P y t h o n .  P a s s i o n a t e  a b o u t  r e s e a r c h i'),\n",
       " Document(metadata={'producer': 'Canva', 'creator': 'Canva', 'creationdate': '2025-08-18T06:13:31+00:00', 'title': 'RESUME IN PROCESS', 'moddate': '2025-08-18T06:13:30+00:00', 'keywords': 'DAGtNw66A_M,BAEiyhLqebQ,0', 'author': 'Hitesh', 'source': 'documents\\\\Hitesh_resume_fin.pdf', 'total_pages': 1, 'page': 0, 'page_label': '1'}, page_content='r e s e a r c h i n g  a n d  u s i n g  A I  t o  c r e a t e  s c a l a b l e ,  m e a n i n g f'),\n",
       " Document(metadata={'producer': 'Canva', 'creator': 'Canva', 'creationdate': '2025-08-18T06:13:31+00:00', 'title': 'RESUME IN PROCESS', 'moddate': '2025-08-18T06:13:30+00:00', 'keywords': 'DAGtNw66A_M,BAEiyhLqebQ,0', 'author': 'Hitesh', 'source': 'documents\\\\Hitesh_resume_fin.pdf', 'total_pages': 1, 'page': 0, 'page_label': '1'}, page_content=',  m e a n i n g f u l  s o l u t i o n s .'),\n",
       " Document(metadata={'producer': 'Canva', 'creator': 'Canva', 'creationdate': '2025-08-18T06:13:31+00:00', 'title': 'RESUME IN PROCESS', 'moddate': '2025-08-18T06:13:30+00:00', 'keywords': 'DAGtNw66A_M,BAEiyhLqebQ,0', 'author': 'Hitesh', 'source': 'documents\\\\Hitesh_resume_fin.pdf', 'total_pages': 1, 'page': 0, 'page_label': '1'}, page_content='a l s o  s k i l l e d  i n  p r o d u c i n g  i n t e r a c t i v e  d e m o n s t r a t i o n s'),\n",
       " Document(metadata={'producer': 'Canva', 'creator': 'Canva', 'creationdate': '2025-08-18T06:13:31+00:00', 'title': 'RESUME IN PROCESS', 'moddate': '2025-08-18T06:13:30+00:00', 'keywords': 'DAGtNw66A_M,BAEiyhLqebQ,0', 'author': 'Hitesh', 'source': 'documents\\\\Hitesh_resume_fin.pdf', 'total_pages': 1, 'page': 0, 'page_label': '1'}, page_content='s t r a t i o n s  t o  s u c c e s s f u l l y  s h o w c a s e  A I  p r o j e c t s .'),\n",
       " Document(metadata={'producer': 'Canva', 'creator': 'Canva', 'creationdate': '2025-08-18T06:13:31+00:00', 'title': 'RESUME IN PROCESS', 'moddate': '2025-08-18T06:13:30+00:00', 'keywords': 'DAGtNw66A_M,BAEiyhLqebQ,0', 'author': 'Hitesh', 'source': 'documents\\\\Hitesh_resume_fin.pdf', 'total_pages': 1, 'page': 0, 'page_label': '1'}, page_content='A B O U T  M E\\nE D U C A T I O N\\nC h a n d i g a r h  U n i v e r s i t y'),\n",
       " Document(metadata={'producer': 'Canva', 'creator': 'Canva', 'creationdate': '2025-08-18T06:13:31+00:00', 'title': 'RESUME IN PROCESS', 'moddate': '2025-08-18T06:13:30+00:00', 'keywords': 'DAGtNw66A_M,BAEiyhLqebQ,0', 'author': 'Hitesh', 'source': 'documents\\\\Hitesh_resume_fin.pdf', 'total_pages': 1, 'page': 0, 'page_label': '1'}, page_content='P o l i c e  D . A . V  P u b l i c  S c h o o l'),\n",
       " Document(metadata={'producer': 'Canva', 'creator': 'Canva', 'creationdate': '2025-08-18T06:13:31+00:00', 'title': 'RESUME IN PROCESS', 'moddate': '2025-08-18T06:13:30+00:00', 'keywords': 'DAGtNw66A_M,BAEiyhLqebQ,0', 'author': 'Hitesh', 'source': 'documents\\\\Hitesh_resume_fin.pdf', 'total_pages': 1, 'page': 0, 'page_label': '1'}, page_content='B a c h e l o r  o f  E n g i n e e r i n g  i n  C o m p u t e r  S c i e n c e  &  T e c h n o l'),\n",
       " Document(metadata={'producer': 'Canva', 'creator': 'Canva', 'creationdate': '2025-08-18T06:13:31+00:00', 'title': 'RESUME IN PROCESS', 'moddate': '2025-08-18T06:13:30+00:00', 'keywords': 'DAGtNw66A_M,BAEiyhLqebQ,0', 'author': 'Hitesh', 'source': 'documents\\\\Hitesh_resume_fin.pdf', 'total_pages': 1, 'page': 0, 'page_label': '1'}, page_content='e  &  T e c h n o l o g y'),\n",
       " Document(metadata={'producer': 'Canva', 'creator': 'Canva', 'creationdate': '2025-08-18T06:13:31+00:00', 'title': 'RESUME IN PROCESS', 'moddate': '2025-08-18T06:13:30+00:00', 'keywords': 'DAGtNw66A_M,BAEiyhLqebQ,0', 'author': 'Hitesh', 'source': 'documents\\\\Hitesh_resume_fin.pdf', 'total_pages': 1, 'page': 0, 'page_label': '1'}, page_content='S e n i o r  S e c o n d a r y\\n2 0 2 2  -  2 0 2 6\\n2 0 1 9  -  2 0 2 1\\nP R O J E C T S'),\n",
       " Document(metadata={'producer': 'Canva', 'creator': 'Canva', 'creationdate': '2025-08-18T06:13:31+00:00', 'title': 'RESUME IN PROCESS', 'moddate': '2025-08-18T06:13:30+00:00', 'keywords': 'DAGtNw66A_M,BAEiyhLqebQ,0', 'author': 'Hitesh', 'source': 'documents\\\\Hitesh_resume_fin.pdf', 'total_pages': 1, 'page': 0, 'page_label': '1'}, page_content='F o r  t a r g e t e d  m a r k e t i n g ,  u s e d  K - M e a n s  c l u s t e r i n g  t o  g r'),\n",
       " Document(metadata={'producer': 'Canva', 'creator': 'Canva', 'creationdate': '2025-08-18T06:13:31+00:00', 'title': 'RESUME IN PROCESS', 'moddate': '2025-08-18T06:13:30+00:00', 'keywords': 'DAGtNw66A_M,BAEiyhLqebQ,0', 'author': 'Hitesh', 'source': 'documents\\\\Hitesh_resume_fin.pdf', 'total_pages': 1, 'page': 0, 'page_label': '1'}, page_content='e r i n g  t o  g r o u p  c u s t o m e r s  a c c o r d i n g  t o  t h e i r  p u r c h a s i n'),\n",
       " Document(metadata={'producer': 'Canva', 'creator': 'Canva', 'creationdate': '2025-08-18T06:13:31+00:00', 'title': 'RESUME IN PROCESS', 'moddate': '2025-08-18T06:13:30+00:00', 'keywords': 'DAGtNw66A_M,BAEiyhLqebQ,0', 'author': 'Hitesh', 'source': 'documents\\\\Hitesh_resume_fin.pdf', 'total_pages': 1, 'page': 0, 'page_label': '1'}, page_content='p u r c h a s i n g  p a t t e r n s . •'),\n",
       " Document(metadata={'producer': 'Canva', 'creator': 'Canva', 'creationdate': '2025-08-18T06:13:31+00:00', 'title': 'RESUME IN PROCESS', 'moddate': '2025-08-18T06:13:30+00:00', 'keywords': 'DAGtNw66A_M,BAEiyhLqebQ,0', 'author': 'Hitesh', 'source': 'documents\\\\Hitesh_resume_fin.pdf', 'total_pages': 1, 'page': 0, 'page_label': '1'}, page_content='U s e d  S e a b o r n  t o  v i s u a l i z e  c l u s t e r s  a n d  a p p l i e d  P C A  f o r'),\n",
       " Document(metadata={'producer': 'Canva', 'creator': 'Canva', 'creationdate': '2025-08-18T06:13:31+00:00', 'title': 'RESUME IN PROCESS', 'moddate': '2025-08-18T06:13:30+00:00', 'keywords': 'DAGtNw66A_M,BAEiyhLqebQ,0', 'author': 'Hitesh', 'source': 'documents\\\\Hitesh_resume_fin.pdf', 'total_pages': 1, 'page': 0, 'page_label': '1'}, page_content='i e d  P C A  f o r  d i m e n s i o n a l i t y  r e d u c t i o n .  T e c h n o l o g i e s :  P'),\n",
       " Document(metadata={'producer': 'Canva', 'creator': 'Canva', 'creationdate': '2025-08-18T06:13:31+00:00', 'title': 'RESUME IN PROCESS', 'moddate': '2025-08-18T06:13:30+00:00', 'keywords': 'DAGtNw66A_M,BAEiyhLqebQ,0', 'author': 'Hitesh', 'source': 'documents\\\\Hitesh_resume_fin.pdf', 'total_pages': 1, 'page': 0, 'page_label': '1'}, page_content='o l o g i e s :  P a n d a s ,  S e a b o r n'),\n",
       " Document(metadata={'producer': 'Canva', 'creator': 'Canva', 'creationdate': '2025-08-18T06:13:31+00:00', 'title': 'RESUME IN PROCESS', 'moddate': '2025-08-18T06:13:30+00:00', 'keywords': 'DAGtNw66A_M,BAEiyhLqebQ,0', 'author': 'Hitesh', 'source': 'documents\\\\Hitesh_resume_fin.pdf', 'total_pages': 1, 'page': 0, 'page_label': '1'}, page_content='a n d  S c i k i t - l e a r n'),\n",
       " Document(metadata={'producer': 'Canva', 'creator': 'Canva', 'creationdate': '2025-08-18T06:13:31+00:00', 'title': 'RESUME IN PROCESS', 'moddate': '2025-08-18T06:13:30+00:00', 'keywords': 'DAGtNw66A_M,BAEiyhLqebQ,0', 'author': 'Hitesh', 'source': 'documents\\\\Hitesh_resume_fin.pdf', 'total_pages': 1, 'page': 0, 'page_label': '1'}, page_content='U s i n g  L S T M - b a s e d  n e u r a l  n e t w o r k s ,  d e v e l o p e d  a n  N L P  m o'),\n",
       " Document(metadata={'producer': 'Canva', 'creator': 'Canva', 'creationdate': '2025-08-18T06:13:31+00:00', 'title': 'RESUME IN PROCESS', 'moddate': '2025-08-18T06:13:30+00:00', 'keywords': 'DAGtNw66A_M,BAEiyhLqebQ,0', 'author': 'Hitesh', 'source': 'documents\\\\Hitesh_resume_fin.pdf', 'total_pages': 1, 'page': 0, 'page_label': '1'}, page_content='d  a n  N L P  m o d e l  t o  c a t e g o r i z e  s e n t i m e n t s  f r o m  I M D B  r e v i'),\n",
       " Document(metadata={'producer': 'Canva', 'creator': 'Canva', 'creationdate': '2025-08-18T06:13:31+00:00', 'title': 'RESUME IN PROCESS', 'moddate': '2025-08-18T06:13:30+00:00', 'keywords': 'DAGtNw66A_M,BAEiyhLqebQ,0', 'author': 'Hitesh', 'source': 'documents\\\\Hitesh_resume_fin.pdf', 'total_pages': 1, 'page': 0, 'page_label': '1'}, page_content='m  I M D B  r e v i e w s . •'),\n",
       " Document(metadata={'producer': 'Canva', 'creator': 'Canva', 'creationdate': '2025-08-18T06:13:31+00:00', 'title': 'RESUME IN PROCESS', 'moddate': '2025-08-18T06:13:30+00:00', 'keywords': 'DAGtNw66A_M,BAEiyhLqebQ,0', 'author': 'Hitesh', 'source': 'documents\\\\Hitesh_resume_fin.pdf', 'total_pages': 1, 'page': 0, 'page_label': '1'}, page_content='T o k e n i z a t i o n  a n d  e m b e d d i n g s  w e r e  u s e d  t o  p r e p r o c e s s  t'),\n",
       " Document(metadata={'producer': 'Canva', 'creator': 'Canva', 'creationdate': '2025-08-18T06:13:31+00:00', 'title': 'RESUME IN PROCESS', 'moddate': '2025-08-18T06:13:30+00:00', 'keywords': 'DAGtNw66A_M,BAEiyhLqebQ,0', 'author': 'Hitesh', 'source': 'documents\\\\Hitesh_resume_fin.pdf', 'total_pages': 1, 'page': 0, 'page_label': '1'}, page_content='e p r o c e s s  t h e  t e x t ;  a  h i g h  F 1 - s c o r e  w a s  o b t a i n e d  o n  t e s'),\n",
       " Document(metadata={'producer': 'Canva', 'creator': 'Canva', 'creationdate': '2025-08-18T06:13:31+00:00', 'title': 'RESUME IN PROCESS', 'moddate': '2025-08-18T06:13:30+00:00', 'keywords': 'DAGtNw66A_M,BAEiyhLqebQ,0', 'author': 'Hitesh', 'source': 'documents\\\\Hitesh_resume_fin.pdf', 'total_pages': 1, 'page': 0, 'page_label': '1'}, page_content='i n e d  o n  t e s t  d a t a .'),\n",
       " Document(metadata={'producer': 'Canva', 'creator': 'Canva', 'creationdate': '2025-08-18T06:13:31+00:00', 'title': 'RESUME IN PROCESS', 'moddate': '2025-08-18T06:13:30+00:00', 'keywords': 'DAGtNw66A_M,BAEiyhLqebQ,0', 'author': 'Hitesh', 'source': 'documents\\\\Hitesh_resume_fin.pdf', 'total_pages': 1, 'page': 0, 'page_label': '1'}, page_content='T e c h n o l o g i e s :  N L T K ,  L S T M ,  P y T o r c h'),\n",
       " Document(metadata={'producer': 'Canva', 'creator': 'Canva', 'creationdate': '2025-08-18T06:13:31+00:00', 'title': 'RESUME IN PROCESS', 'moddate': '2025-08-18T06:13:30+00:00', 'keywords': 'DAGtNw66A_M,BAEiyhLqebQ,0', 'author': 'Hitesh', 'source': 'documents\\\\Hitesh_resume_fin.pdf', 'total_pages': 1, 'page': 0, 'page_label': '1'}, page_content='C u s t o m e r  S e g m e n t a t i o n  u s i n g  K  m e a n s :'),\n",
       " Document(metadata={'producer': 'Canva', 'creator': 'Canva', 'creationdate': '2025-08-18T06:13:31+00:00', 'title': 'RESUME IN PROCESS', 'moddate': '2025-08-18T06:13:30+00:00', 'keywords': 'DAGtNw66A_M,BAEiyhLqebQ,0', 'author': 'Hitesh', 'source': 'documents\\\\Hitesh_resume_fin.pdf', 'total_pages': 1, 'page': 0, 'page_label': '1'}, page_content='S e n t i m e n t  A n a l y s i s  o n  M o v i e  R e v i e w s :'),\n",
       " Document(metadata={'producer': 'Canva', 'creator': 'Canva', 'creationdate': '2025-08-18T06:13:31+00:00', 'title': 'RESUME IN PROCESS', 'moddate': '2025-08-18T06:13:30+00:00', 'keywords': 'DAGtNw66A_M,BAEiyhLqebQ,0', 'author': 'Hitesh', 'source': 'documents\\\\Hitesh_resume_fin.pdf', 'total_pages': 1, 'page': 0, 'page_label': '1'}, page_content='+ 9 1 - 7 8 1 4 9 - 0 3 7 9 1 h k b a t i s h 5 9 2 0 0 2 @ g m a i l . c o mG i t h u b L i n k e'),\n",
       " Document(metadata={'producer': 'Canva', 'creator': 'Canva', 'creationdate': '2025-08-18T06:13:31+00:00', 'title': 'RESUME IN PROCESS', 'moddate': '2025-08-18T06:13:30+00:00', 'keywords': 'DAGtNw66A_M,BAEiyhLqebQ,0', 'author': 'Hitesh', 'source': 'documents\\\\Hitesh_resume_fin.pdf', 'total_pages': 1, 'page': 0, 'page_label': '1'}, page_content='i t h u b L i n k e d I n'),\n",
       " Document(metadata={'producer': 'Canva', 'creator': 'Canva', 'creationdate': '2025-08-18T06:13:31+00:00', 'title': 'RESUME IN PROCESS', 'moddate': '2025-08-18T06:13:30+00:00', 'keywords': 'DAGtNw66A_M,BAEiyhLqebQ,0', 'author': 'Hitesh', 'source': 'documents\\\\Hitesh_resume_fin.pdf', 'total_pages': 1, 'page': 0, 'page_label': '1'}, page_content='R e i n f o r c e m e n t  L e a r n i n g  o n  S n a k e  G a m e :'),\n",
       " Document(metadata={'producer': 'Canva', 'creator': 'Canva', 'creationdate': '2025-08-18T06:13:31+00:00', 'title': 'RESUME IN PROCESS', 'moddate': '2025-08-18T06:13:30+00:00', 'keywords': 'DAGtNw66A_M,BAEiyhLqebQ,0', 'author': 'Hitesh', 'source': 'documents\\\\Hitesh_resume_fin.pdf', 'total_pages': 1, 'page': 0, 'page_label': '1'}, page_content='T r a i n e d  a n  A I  a g e n t   t o  p l a y  t h e  c l a s s i c  S n a k e  g a m e  u s i'),\n",
       " Document(metadata={'producer': 'Canva', 'creator': 'Canva', 'creationdate': '2025-08-18T06:13:31+00:00', 'title': 'RESUME IN PROCESS', 'moddate': '2025-08-18T06:13:30+00:00', 'keywords': 'DAGtNw66A_M,BAEiyhLqebQ,0', 'author': 'Hitesh', 'source': 'documents\\\\Hitesh_resume_fin.pdf', 'total_pages': 1, 'page': 0, 'page_label': '1'}, page_content='k e  g a m e  u s i n g  P r o x i m a l  P o l i c y  O p t i m i z a t i o n  ( P P O ) ,  w i t'),\n",
       " Document(metadata={'producer': 'Canva', 'creator': 'Canva', 'creationdate': '2025-08-18T06:13:31+00:00', 'title': 'RESUME IN PROCESS', 'moddate': '2025-08-18T06:13:30+00:00', 'keywords': 'DAGtNw66A_M,BAEiyhLqebQ,0', 'author': 'Hitesh', 'source': 'documents\\\\Hitesh_resume_fin.pdf', 'total_pages': 1, 'page': 0, 'page_label': '1'}, page_content='( P P O ) ,  w i t h  a n  e m p h a s i s'),\n",
       " Document(metadata={'producer': 'Canva', 'creator': 'Canva', 'creationdate': '2025-08-18T06:13:31+00:00', 'title': 'RESUME IN PROCESS', 'moddate': '2025-08-18T06:13:30+00:00', 'keywords': 'DAGtNw66A_M,BAEiyhLqebQ,0', 'author': 'Hitesh', 'source': 'documents\\\\Hitesh_resume_fin.pdf', 'total_pages': 1, 'page': 0, 'page_label': '1'}, page_content='o n  r e w a r d  s h a p i n g ,  e x p l o r a t i o n - e x p l o i t a t i o n  t r a d e o f f'),\n",
       " Document(metadata={'producer': 'Canva', 'creator': 'Canva', 'creationdate': '2025-08-18T06:13:31+00:00', 'title': 'RESUME IN PROCESS', 'moddate': '2025-08-18T06:13:30+00:00', 'keywords': 'DAGtNw66A_M,BAEiyhLqebQ,0', 'author': 'Hitesh', 'source': 'documents\\\\Hitesh_resume_fin.pdf', 'total_pages': 1, 'page': 0, 'page_label': '1'}, page_content='n  t r a d e o f f ,  a n d  p o l i c y  u p d a t e s .  T e c h n o l o g y :   P y T o r c h'),\n",
       " Document(metadata={'producer': 'Canva', 'creator': 'Canva', 'creationdate': '2025-08-18T06:13:31+00:00', 'title': 'RESUME IN PROCESS', 'moddate': '2025-08-18T06:13:30+00:00', 'keywords': 'DAGtNw66A_M,BAEiyhLqebQ,0', 'author': 'Hitesh', 'source': 'documents\\\\Hitesh_resume_fin.pdf', 'total_pages': 1, 'page': 0, 'page_label': '1'}, page_content='R e s e a r c h  &  A d v a n c e d  E x p l o r a t i o n :  G P T - T r a n s f o r m e r'),\n",
       " Document(metadata={'producer': 'Canva', 'creator': 'Canva', 'creationdate': '2025-08-18T06:13:31+00:00', 'title': 'RESUME IN PROCESS', 'moddate': '2025-08-18T06:13:30+00:00', 'keywords': 'DAGtNw66A_M,BAEiyhLqebQ,0', 'author': 'Hitesh', 'source': 'documents\\\\Hitesh_resume_fin.pdf', 'total_pages': 1, 'page': 0, 'page_label': '1'}, page_content='R e - i m p l e m e n t e d  a n d  e x a m i n e d  c o r e  e l e m e n t s  o f  t h e  T r a n'),\n",
       " Document(metadata={'producer': 'Canva', 'creator': 'Canva', 'creationdate': '2025-08-18T06:13:31+00:00', 'title': 'RESUME IN PROCESS', 'moddate': '2025-08-18T06:13:30+00:00', 'keywords': 'DAGtNw66A_M,BAEiyhLqebQ,0', 'author': 'Hitesh', 'source': 'documents\\\\Hitesh_resume_fin.pdf', 'total_pages': 1, 'page': 0, 'page_label': '1'}, page_content='o f  t h e  T r a n s f o r m e r  a r c h i t e c t u r e  ,  w i t h  a n  e m p h a s i s  o n'),\n",
       " Document(metadata={'producer': 'Canva', 'creator': 'Canva', 'creationdate': '2025-08-18T06:13:31+00:00', 'title': 'RESUME IN PROCESS', 'moddate': '2025-08-18T06:13:30+00:00', 'keywords': 'DAGtNw66A_M,BAEiyhLqebQ,0', 'author': 'Hitesh', 'source': 'documents\\\\Hitesh_resume_fin.pdf', 'total_pages': 1, 'page': 0, 'page_label': '1'}, page_content='m p h a s i s  o n  t h e'),\n",
       " Document(metadata={'producer': 'Canva', 'creator': 'Canva', 'creationdate': '2025-08-18T06:13:31+00:00', 'title': 'RESUME IN PROCESS', 'moddate': '2025-08-18T06:13:30+00:00', 'keywords': 'DAGtNw66A_M,BAEiyhLqebQ,0', 'author': 'Hitesh', 'source': 'documents\\\\Hitesh_resume_fin.pdf', 'total_pages': 1, 'page': 0, 'page_label': '1'}, page_content='s c a l a b i l i t y ,  t r a i n i n g  f l o w ,  a n d  i n t u i t i o n  i s s u e s  m e n t'),\n",
       " Document(metadata={'producer': 'Canva', 'creator': 'Canva', 'creationdate': '2025-08-18T06:13:31+00:00', 'title': 'RESUME IN PROCESS', 'moddate': '2025-08-18T06:13:30+00:00', 'keywords': 'DAGtNw66A_M,BAEiyhLqebQ,0', 'author': 'Hitesh', 'source': 'documents\\\\Hitesh_resume_fin.pdf', 'total_pages': 1, 'page': 0, 'page_label': '1'}, page_content='s s u e s  m e n t i o n e d  i n  t h e  \" A t t e n t i o n  i s  A l l  Y o u  N e e d \"   p a p'),\n",
       " Document(metadata={'producer': 'Canva', 'creator': 'Canva', 'creationdate': '2025-08-18T06:13:31+00:00', 'title': 'RESUME IN PROCESS', 'moddate': '2025-08-18T06:13:30+00:00', 'keywords': 'DAGtNw66A_M,BAEiyhLqebQ,0', 'author': 'Hitesh', 'source': 'documents\\\\Hitesh_resume_fin.pdf', 'total_pages': 1, 'page': 0, 'page_label': '1'}, page_content='N e e d \"   p a p e r .'),\n",
       " Document(metadata={'producer': 'Canva', 'creator': 'Canva', 'creationdate': '2025-08-18T06:13:31+00:00', 'title': 'RESUME IN PROCESS', 'moddate': '2025-08-18T06:13:30+00:00', 'keywords': 'DAGtNw66A_M,BAEiyhLqebQ,0', 'author': 'Hitesh', 'source': 'documents\\\\Hitesh_resume_fin.pdf', 'total_pages': 1, 'page': 0, 'page_label': '1'}, page_content='L L M - P o w e r e d  A I  A g e n t  u s i n g  R e l e v a n c e  A I :'),\n",
       " Document(metadata={'producer': 'Canva', 'creator': 'Canva', 'creationdate': '2025-08-18T06:13:31+00:00', 'title': 'RESUME IN PROCESS', 'moddate': '2025-08-18T06:13:30+00:00', 'keywords': 'DAGtNw66A_M,BAEiyhLqebQ,0', 'author': 'Hitesh', 'source': 'documents\\\\Hitesh_resume_fin.pdf', 'total_pages': 1, 'page': 0, 'page_label': '1'}, page_content='B u i l t  a n d  d e p l o y e d  A I  A g e n t  u s i n g  R e l e v a n c e  A I  t h a t  t a'),\n",
       " Document(metadata={'producer': 'Canva', 'creator': 'Canva', 'creationdate': '2025-08-18T06:13:31+00:00', 'title': 'RESUME IN PROCESS', 'moddate': '2025-08-18T06:13:30+00:00', 'keywords': 'DAGtNw66A_M,BAEiyhLqebQ,0', 'author': 'Hitesh', 'source': 'documents\\\\Hitesh_resume_fin.pdf', 'total_pages': 1, 'page': 0, 'page_label': '1'}, page_content='A I  t h a t  t a k e s  a  U R L  o f  a  c o m p a n y  a n d  t h e  L i n k e d I n  p r o f i'),\n",
       " Document(metadata={'producer': 'Canva', 'creator': 'Canva', 'creationdate': '2025-08-18T06:13:31+00:00', 'title': 'RESUME IN PROCESS', 'moddate': '2025-08-18T06:13:30+00:00', 'keywords': 'DAGtNw66A_M,BAEiyhLqebQ,0', 'author': 'Hitesh', 'source': 'documents\\\\Hitesh_resume_fin.pdf', 'total_pages': 1, 'page': 0, 'page_label': '1'}, page_content='e d I n  p r o f i l e  o f  a n'),\n",
       " Document(metadata={'producer': 'Canva', 'creator': 'Canva', 'creationdate': '2025-08-18T06:13:31+00:00', 'title': 'RESUME IN PROCESS', 'moddate': '2025-08-18T06:13:30+00:00', 'keywords': 'DAGtNw66A_M,BAEiyhLqebQ,0', 'author': 'Hitesh', 'source': 'documents\\\\Hitesh_resume_fin.pdf', 'total_pages': 1, 'page': 0, 'page_label': '1'}, page_content='o f f i c i a l  a n d  s c r a p e s  d a t a  f r o m  t h e m .  F i n a l l y ,  i t  p r e p a'),\n",
       " Document(metadata={'producer': 'Canva', 'creator': 'Canva', 'creationdate': '2025-08-18T06:13:31+00:00', 'title': 'RESUME IN PROCESS', 'moddate': '2025-08-18T06:13:30+00:00', 'keywords': 'DAGtNw66A_M,BAEiyhLqebQ,0', 'author': 'Hitesh', 'source': 'documents\\\\Hitesh_resume_fin.pdf', 'total_pages': 1, 'page': 0, 'page_label': '1'}, page_content='y ,  i t  p r e p a r e s  a  s a l e s  p i t c h  f o r  a  c a l l  w i t h  t h e  o f f i c i'),\n",
       " Document(metadata={'producer': 'Canva', 'creator': 'Canva', 'creationdate': '2025-08-18T06:13:31+00:00', 'title': 'RESUME IN PROCESS', 'moddate': '2025-08-18T06:13:30+00:00', 'keywords': 'DAGtNw66A_M,BAEiyhLqebQ,0', 'author': 'Hitesh', 'source': 'documents\\\\Hitesh_resume_fin.pdf', 'total_pages': 1, 'page': 0, 'page_label': '1'}, page_content='t h e  o f f i c i a l'),\n",
       " Document(metadata={'producer': 'Canva', 'creator': 'Canva', 'creationdate': '2025-08-18T06:13:31+00:00', 'title': 'RESUME IN PROCESS', 'moddate': '2025-08-18T06:13:30+00:00', 'keywords': 'DAGtNw66A_M,BAEiyhLqebQ,0', 'author': 'Hitesh', 'source': 'documents\\\\Hitesh_resume_fin.pdf', 'total_pages': 1, 'page': 0, 'page_label': '1'}, page_content='Y o u T u b e  T r a n s c r i p t  Q & A  A g e n t  u s i n g  L a n g C h a i n  a n d  R A G :'),\n",
       " Document(metadata={'producer': 'Canva', 'creator': 'Canva', 'creationdate': '2025-08-18T06:13:31+00:00', 'title': 'RESUME IN PROCESS', 'moddate': '2025-08-18T06:13:30+00:00', 'keywords': 'DAGtNw66A_M,BAEiyhLqebQ,0', 'author': 'Hitesh', 'source': 'documents\\\\Hitesh_resume_fin.pdf', 'total_pages': 1, 'page': 0, 'page_label': '1'}, page_content='B u i l t  a  c h a t b o t  t h a t  f e t c h e s  t r a n s c r i p t s  f r o m  Y o u T u b e'),\n",
       " Document(metadata={'producer': 'Canva', 'creator': 'Canva', 'creationdate': '2025-08-18T06:13:31+00:00', 'title': 'RESUME IN PROCESS', 'moddate': '2025-08-18T06:13:30+00:00', 'keywords': 'DAGtNw66A_M,BAEiyhLqebQ,0', 'author': 'Hitesh', 'source': 'documents\\\\Hitesh_resume_fin.pdf', 'total_pages': 1, 'page': 0, 'page_label': '1'}, page_content='o m  Y o u T u b e  v i d e o s  a n d  e n a b l e s  q u e s t i o n  a n s w e r i n g  u s i n'),\n",
       " Document(metadata={'producer': 'Canva', 'creator': 'Canva', 'creationdate': '2025-08-18T06:13:31+00:00', 'title': 'RESUME IN PROCESS', 'moddate': '2025-08-18T06:13:30+00:00', 'keywords': 'DAGtNw66A_M,BAEiyhLqebQ,0', 'author': 'Hitesh', 'source': 'documents\\\\Hitesh_resume_fin.pdf', 'total_pages': 1, 'page': 0, 'page_label': '1'}, page_content='e r i n g  u s i n g  L a n g C h a i n'),\n",
       " Document(metadata={'producer': 'Canva', 'creator': 'Canva', 'creationdate': '2025-08-18T06:13:31+00:00', 'title': 'RESUME IN PROCESS', 'moddate': '2025-08-18T06:13:30+00:00', 'keywords': 'DAGtNw66A_M,BAEiyhLqebQ,0', 'author': 'Hitesh', 'source': 'documents\\\\Hitesh_resume_fin.pdf', 'total_pages': 1, 'page': 0, 'page_label': '1'}, page_content='a n d  R e t r i e v a l - A u g m e n t e d  G e n e r a t i o n  ( R A G ) .\\nS K I L L S'),\n",
       " Document(metadata={'producer': 'Canva', 'creator': 'Canva', 'creationdate': '2025-08-18T06:13:31+00:00', 'title': 'RESUME IN PROCESS', 'moddate': '2025-08-18T06:13:30+00:00', 'keywords': 'DAGtNw66A_M,BAEiyhLqebQ,0', 'author': 'Hitesh', 'source': 'documents\\\\Hitesh_resume_fin.pdf', 'total_pages': 1, 'page': 0, 'page_label': '1'}, page_content='S K I L L S\\nP y t h o n\\nG o o g l e  C o l a b\\nC + +\\nS t r e a m l i tP y T o r c h'),\n",
       " Document(metadata={'producer': 'Canva', 'creator': 'Canva', 'creationdate': '2025-08-18T06:13:31+00:00', 'title': 'RESUME IN PROCESS', 'moddate': '2025-08-18T06:13:30+00:00', 'keywords': 'DAGtNw66A_M,BAEiyhLqebQ,0', 'author': 'Hitesh', 'source': 'documents\\\\Hitesh_resume_fin.pdf', 'total_pages': 1, 'page': 0, 'page_label': '1'}, page_content='S c i - k i t  l e a r n\\nP a n d a s\\nM a t p l o t l i bL a n g C h a i n\\nR A G\\nN u m P y S Q L'),\n",
       " Document(metadata={'producer': 'Canva', 'creator': 'Canva', 'creationdate': '2025-08-18T06:13:31+00:00', 'title': 'RESUME IN PROCESS', 'moddate': '2025-08-18T06:13:30+00:00', 'keywords': 'DAGtNw66A_M,BAEiyhLqebQ,0', 'author': 'Hitesh', 'source': 'documents\\\\Hitesh_resume_fin.pdf', 'total_pages': 1, 'page': 0, 'page_label': '1'}, page_content='I n t r o d u c t i o n  t o  M L ( N P T E L ) :  G a i n e d  h a n d s - o n  k n o w l e d g e'),\n",
       " Document(metadata={'producer': 'Canva', 'creator': 'Canva', 'creationdate': '2025-08-18T06:13:31+00:00', 'title': 'RESUME IN PROCESS', 'moddate': '2025-08-18T06:13:30+00:00', 'keywords': 'DAGtNw66A_M,BAEiyhLqebQ,0', 'author': 'Hitesh', 'source': 'documents\\\\Hitesh_resume_fin.pdf', 'total_pages': 1, 'page': 0, 'page_label': '1'}, page_content='k n o w l e d g e  o f  s u p e r v i s e d  &  u n s u p e r v i s e d'),\n",
       " Document(metadata={'producer': 'Canva', 'creator': 'Canva', 'creationdate': '2025-08-18T06:13:31+00:00', 'title': 'RESUME IN PROCESS', 'moddate': '2025-08-18T06:13:30+00:00', 'keywords': 'DAGtNw66A_M,BAEiyhLqebQ,0', 'author': 'Hitesh', 'source': 'documents\\\\Hitesh_resume_fin.pdf', 'total_pages': 1, 'page': 0, 'page_label': '1'}, page_content='l e a r n i n g ,  d e c i s i o n  t r e e s ,  c l u s t e r i n g ,  a n d  e v a l u a t i o n'),\n",
       " Document(metadata={'producer': 'Canva', 'creator': 'Canva', 'creationdate': '2025-08-18T06:13:31+00:00', 'title': 'RESUME IN PROCESS', 'moddate': '2025-08-18T06:13:30+00:00', 'keywords': 'DAGtNw66A_M,BAEiyhLqebQ,0', 'author': 'Hitesh', 'source': 'documents\\\\Hitesh_resume_fin.pdf', 'total_pages': 1, 'page': 0, 'page_label': '1'}, page_content='v a l u a t i o n  m e t r i c s .'),\n",
       " Document(metadata={'producer': 'Canva', 'creator': 'Canva', 'creationdate': '2025-08-18T06:13:31+00:00', 'title': 'RESUME IN PROCESS', 'moddate': '2025-08-18T06:13:30+00:00', 'keywords': 'DAGtNw66A_M,BAEiyhLqebQ,0', 'author': 'Hitesh', 'source': 'documents\\\\Hitesh_resume_fin.pdf', 'total_pages': 1, 'page': 0, 'page_label': '1'}, page_content='C E R T I F I C A T I O N S'),\n",
       " Document(metadata={'producer': 'Canva', 'creator': 'Canva', 'creationdate': '2025-08-18T06:13:31+00:00', 'title': 'RESUME IN PROCESS', 'moddate': '2025-08-18T06:13:30+00:00', 'keywords': 'DAGtNw66A_M,BAEiyhLqebQ,0', 'author': 'Hitesh', 'source': 'documents\\\\Hitesh_resume_fin.pdf', 'total_pages': 1, 'page': 0, 'page_label': '1'}, page_content='I n t r o d u c t i o n  t o  D L ( N P T E L ) :  L e a r n e d  f u n d a m e n t a l s  o f  n e'),\n",
       " Document(metadata={'producer': 'Canva', 'creator': 'Canva', 'creationdate': '2025-08-18T06:13:31+00:00', 'title': 'RESUME IN PROCESS', 'moddate': '2025-08-18T06:13:30+00:00', 'keywords': 'DAGtNw66A_M,BAEiyhLqebQ,0', 'author': 'Hitesh', 'source': 'documents\\\\Hitesh_resume_fin.pdf', 'total_pages': 1, 'page': 0, 'page_label': '1'}, page_content='n t a l s  o f  n e u r a l  n e t w o r k s ,  b a c k p r o p a g a t i o n ,'),\n",
       " Document(metadata={'producer': 'Canva', 'creator': 'Canva', 'creationdate': '2025-08-18T06:13:31+00:00', 'title': 'RESUME IN PROCESS', 'moddate': '2025-08-18T06:13:30+00:00', 'keywords': 'DAGtNw66A_M,BAEiyhLqebQ,0', 'author': 'Hitesh', 'source': 'documents\\\\Hitesh_resume_fin.pdf', 'total_pages': 1, 'page': 0, 'page_label': '1'}, page_content='C N N s ,  a n d  R N N s  w i t h  r e a l - w o r l d  a p p l i c a t i o n s .'),\n",
       " Document(metadata={'producer': 'Canva', 'creator': 'Canva', 'creationdate': '2025-08-18T06:13:31+00:00', 'title': 'RESUME IN PROCESS', 'moddate': '2025-08-18T06:13:30+00:00', 'keywords': 'DAGtNw66A_M,BAEiyhLqebQ,0', 'author': 'Hitesh', 'source': 'documents\\\\Hitesh_resume_fin.pdf', 'total_pages': 1, 'page': 0, 'page_label': '1'}, page_content='I n t r o d u c t i o n  t o  I n f o r m a t i o n  S e c u r i t y ( N P T E L ) :  C o v e r e d'),\n",
       " Document(metadata={'producer': 'Canva', 'creator': 'Canva', 'creationdate': '2025-08-18T06:13:31+00:00', 'title': 'RESUME IN PROCESS', 'moddate': '2025-08-18T06:13:30+00:00', 'keywords': 'DAGtNw66A_M,BAEiyhLqebQ,0', 'author': 'Hitesh', 'source': 'documents\\\\Hitesh_resume_fin.pdf', 'total_pages': 1, 'page': 0, 'page_label': '1'}, page_content=') :  C o v e r e d  c r y p t o g r a p h y ,  a u t h e n t i c a t i o n ,'),\n",
       " Document(metadata={'producer': 'Canva', 'creator': 'Canva', 'creationdate': '2025-08-18T06:13:31+00:00', 'title': 'RESUME IN PROCESS', 'moddate': '2025-08-18T06:13:30+00:00', 'keywords': 'DAGtNw66A_M,BAEiyhLqebQ,0', 'author': 'Hitesh', 'source': 'documents\\\\Hitesh_resume_fin.pdf', 'total_pages': 1, 'page': 0, 'page_label': '1'}, page_content='n e t w o r k  s e c u r i t y ,  a n d  i n t r u s i o n  d e t e c t i o n  t e c h n i q u e s'),\n",
       " Document(metadata={'producer': 'Canva', 'creator': 'Canva', 'creationdate': '2025-08-18T06:13:31+00:00', 'title': 'RESUME IN PROCESS', 'moddate': '2025-08-18T06:13:30+00:00', 'keywords': 'DAGtNw66A_M,BAEiyhLqebQ,0', 'author': 'Hitesh', 'source': 'documents\\\\Hitesh_resume_fin.pdf', 'total_pages': 1, 'page': 0, 'page_label': '1'}, page_content='t e c h n i q u e s .'),\n",
       " Document(metadata={'producer': 'Canva', 'creator': 'Canva', 'creationdate': '2025-08-18T06:13:31+00:00', 'title': 'RESUME IN PROCESS', 'moddate': '2025-08-18T06:13:30+00:00', 'keywords': 'DAGtNw66A_M,BAEiyhLqebQ,0', 'author': 'Hitesh', 'source': 'documents\\\\Hitesh_resume_fin.pdf', 'total_pages': 1, 'page': 0, 'page_label': '1'}, page_content='L I N K\\nL I N K')]"
      ]
     },
     "execution_count": 18,
     "metadata": {},
     "output_type": "execute_result"
    }
   ],
   "source": [
    "documents = chunk_data(docs=doc)\n",
    "documents"
   ]
  },
  {
   "cell_type": "code",
   "execution_count": 24,
   "id": "546d7724",
   "metadata": {},
   "outputs": [],
   "source": [
    "embeddings = GoogleGenerativeAIEmbeddings(\n",
    "    model=\"models/embedding-001\",   # Google Gemini embedding model\n",
    "    google_api_key=os.environ[\"GOOGLE_API_KEY\"]  # use Google key\n",
    ")\n"
   ]
  },
  {
   "cell_type": "code",
   "execution_count": 26,
   "id": "a37f3783",
   "metadata": {},
   "outputs": [
    {
     "data": {
      "text/plain": [
       "768"
      ]
     },
     "execution_count": 26,
     "metadata": {},
     "output_type": "execute_result"
    }
   ],
   "source": [
    "vectors = embeddings.embed_query(\"How are you?\")\n",
    "len(vectors)"
   ]
  },
  {
   "cell_type": "code",
   "execution_count": null,
   "id": "ce676242",
   "metadata": {},
   "outputs": [],
   "source": [
    "import os\n",
    "from pinecone import Pinecone\n",
    "from langchain_pinecone import PineconeVectorStore\n",
    "\n",
    "# Set environment variable\n",
    "os.environ['PINECONE_API_KEY'] = \"\"\"your pinecone api key(can't show mine)\"\"\"\n",
    "\n",
    "# Use LangChain's PineconeVectorStore for from_documents\n",
    "index_name = 'langchainvector'\n",
    "vectorstore = PineconeVectorStore.from_documents(\n",
    "    documents=doc,\n",
    "    embedding=embeddings,\n",
    "    index_name=index_name\n",
    ")"
   ]
  },
  {
   "cell_type": "code",
   "execution_count": 49,
   "id": "ba26616c",
   "metadata": {},
   "outputs": [],
   "source": [
    "#Cosine similarity retrieve results from the VectorDB\n",
    "def retrieve_query(query, k=2):\n",
    "    matching_results = vectorstore.similarity_search(query,k=k)\n",
    "    return matching_results\n",
    "\n"
   ]
  },
  {
   "cell_type": "code",
   "execution_count": 51,
   "id": "bca39c44",
   "metadata": {},
   "outputs": [],
   "source": [
    "from langchain.chains import RetrievalQA\n",
    "from langchain_google_genai import GoogleGenerativeAI"
   ]
  },
  {
   "cell_type": "code",
   "execution_count": null,
   "id": "b92c06f8",
   "metadata": {},
   "outputs": [],
   "source": [
    "llm = GoogleGenerativeAI(\n",
    "    model=\"gemini-2.5-flash\",  # Google Gemini Pro model\n",
    "    temperature=0.5,\n",
    "    google_api_key=os.environ[\"GOOGLE_API_KEY\"]  # use Google key\n",
    ")\n",
    "\n",
    "qa = RetrievalQA.from_chain_type(\n",
    "    llm=llm,\n",
    "    retriever=vectorstore.as_retriever(),  # you must provide a retriever now\n",
    "    chain_type=\"stuff\"\n",
    ")\n"
   ]
  },
  {
   "cell_type": "code",
   "execution_count": 63,
   "id": "31279a93",
   "metadata": {},
   "outputs": [
    {
     "name": "stdout",
     "output_type": "stream",
     "text": [
      "The document is a resume or curriculum vitae for Hitesh Kumar, highlighting his skills and experience in artificial intelligence, machine learning, and related fields.\n"
     ]
    }
   ],
   "source": [
    "def retrieve_answers(query: str):\n",
    "    response = qa.invoke({\"query\": query})   # <- correct call\n",
    "    return response[\"result\"]\n",
    "\n",
    "my_query = \"what is the document about?\"\n",
    "answer = retrieve_answers(my_query)\n",
    "print(answer)\n"
   ]
  },
  {
   "cell_type": "code",
   "execution_count": null,
   "id": "f84ca474",
   "metadata": {},
   "outputs": [],
   "source": []
  }
 ],
 "metadata": {
  "kernelspec": {
   "display_name": "venv",
   "language": "python",
   "name": "python3"
  },
  "language_info": {
   "codemirror_mode": {
    "name": "ipython",
    "version": 3
   },
   "file_extension": ".py",
   "mimetype": "text/x-python",
   "name": "python",
   "nbconvert_exporter": "python",
   "pygments_lexer": "ipython3",
   "version": "3.12.1"
  }
 },
 "nbformat": 4,
 "nbformat_minor": 5
}
